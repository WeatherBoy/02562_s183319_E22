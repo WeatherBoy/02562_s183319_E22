{
 "cells": [
  {
   "cell_type": "markdown",
   "metadata": {},
   "source": [
    "# 02562 - Worksheet05\n",
    "\n",
    "## Part 1\n",
    "A small $25 W$ light bulb has an efficiency of $20\\%$. How many photons are approximately emitted per second?\n",
    "Assume in the calculations that we only use average photons of wavelength $500 nm$."
   ]
  },
  {
   "cell_type": "code",
   "execution_count": null,
   "metadata": {},
   "outputs": [],
   "source": [
    "import sympy\n",
    "from sympy.physics.units.systems import SI\n",
    "from sympy import symbols, solve, pi, Eq\n",
    "from sympy.physics.units import energy, length\n",
    "from sympy.physics.units import watt, nanometer, joules, seconds\n",
    "\n",
    "light_bulb = symbols(\"light_bulb\")\n",
    "SI.set_quantity_dimension(light_bulb, energy)\n",
    "SI.set_quantity_scale_factor(light_bulb, 25*watt)\n",
    "\n",
    "efficiency = 0.2\n",
    "\n",
    "wavelength = symbols(\"wavelength\")\n",
    "SI.set_quantity_dimension(wavelength, length)\n",
    "SI.set_quantity_scale_factor(wavelength, 500*nanometer)\n",
    "\n",
    "h = symbols(\"h\")\n",
    "SI.set_quantity_dimension(h, )\n",
    "\n"
   ]
  },
  {
   "cell_type": "code",
   "execution_count": 2,
   "metadata": {},
   "outputs": [
    {
     "data": {
      "text/plain": [
       "[150*centimeter]"
      ]
     },
     "execution_count": 2,
     "metadata": {},
     "output_type": "execute_result"
    }
   ],
   "source": [
    "import sympy.physics.units as U\n",
    "from sympy import symbols, solve, Eq\n",
    "\n",
    "a = symbols(\"a\")\n",
    "eq = Eq(50*U.cm + 1*U.meter, a)\n",
    "solve(eq, a)"
   ]
  },
  {
   "cell_type": "code",
   "execution_count": 6,
   "metadata": {},
   "outputs": [
    {
     "name": "stdout",
     "output_type": "stream",
     "text": [
      "250.0*centimeter\n"
     ]
    }
   ],
   "source": [
    "import sympy.physics.units as U\n",
    "bla = 100*U.cm + 1.5*U.meter\n",
    "print(bla.simplify())"
   ]
  }
 ],
 "metadata": {
  "kernelspec": {
   "display_name": "Python 3.10.6 64-bit",
   "language": "python",
   "name": "python3"
  },
  "language_info": {
   "codemirror_mode": {
    "name": "ipython",
    "version": 3
   },
   "file_extension": ".py",
   "mimetype": "text/x-python",
   "name": "python",
   "nbconvert_exporter": "python",
   "pygments_lexer": "ipython3",
   "version": "3.10.6"
  },
  "orig_nbformat": 4,
  "vscode": {
   "interpreter": {
    "hash": "d96a798051220adb8d47ede7819712d4980d7e1ecee887457e300fc8d0177c4e"
   }
  }
 },
 "nbformat": 4,
 "nbformat_minor": 2
}
